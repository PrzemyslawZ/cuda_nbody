{
 "cells": [
  {
   "cell_type": "markdown",
   "id": "beca6f5a",
   "metadata": {},
   "source": [
    "### Our Hamiltonian (+ decay)\n",
    "\n",
    "$$H = \\sum_{\\langle ij \\rangle} (J^x \\sigma_i^x \\sigma_j^x + J^y \\sigma_i^y \\sigma_j^y + J^z \\sigma_i^z \\sigma_j^z)$$"
   ]
  },
  {
   "cell_type": "code",
   "execution_count": null,
   "id": "e090126f",
   "metadata": {},
   "outputs": [],
   "source": [
    "from pycu_spins import CudaSpins, np\n",
    "import matplotlib.pyplot as plt"
   ]
  },
  {
   "cell_type": "markdown",
   "id": "035be8be",
   "metadata": {},
   "source": [
    "#### Call the interface class with parameters for GPU and physical simulation"
   ]
  },
  {
   "cell_type": "code",
   "execution_count": null,
   "id": "4b46664c",
   "metadata": {},
   "outputs": [],
   "source": [
    "cs = CudaSpins(\n",
    "    params = \n",
    "            {\n",
    "            \"num_bodies\": 256,\n",
    "            \"dt\": 1e-3, \n",
    "            \"tsteps\": 2000,\n",
    "            \"save_step\":1,\n",
    "            \"gamma\": 1.0,\n",
    "            \"jx\": 0.9,\n",
    "            \"jy\": 0.9,\n",
    "            \"jz\": 1.0,\n",
    "            \"save_start\":0\n",
    "            },\n",
    "    gpu_params = {\n",
    "        \"block_size\":128, \n",
    "        \"use_host_mem\": False}\n",
    "            )"
   ]
  },
  {
   "cell_type": "markdown",
   "id": "a5f260cd",
   "metadata": {},
   "source": [
    "#### Check platforms on which you can simulate you system"
   ]
  },
  {
   "cell_type": "code",
   "execution_count": null,
   "id": "fbb2852c",
   "metadata": {},
   "outputs": [],
   "source": [
    "cs.get_platform_options()"
   ]
  },
  {
   "cell_type": "markdown",
   "id": "37e59fc9",
   "metadata": {},
   "source": [
    "#### You can select your platform GPU / CPU"
   ]
  },
  {
   "cell_type": "code",
   "execution_count": null,
   "id": "fac6cc18",
   "metadata": {},
   "outputs": [],
   "source": [
    "cs.set_platform(\"CPU\")"
   ]
  },
  {
   "cell_type": "markdown",
   "id": "5c8137aa",
   "metadata": {},
   "source": [
    "#### Run simulation"
   ]
  },
  {
   "cell_type": "code",
   "execution_count": null,
   "id": "3eca3e2a",
   "metadata": {},
   "outputs": [],
   "source": [
    "cs.run()"
   ]
  },
  {
   "cell_type": "markdown",
   "id": "87d045d8",
   "metadata": {},
   "source": [
    "#### Process the results "
   ]
  },
  {
   "cell_type": "code",
   "execution_count": null,
   "id": "e31c33c8",
   "metadata": {},
   "outputs": [],
   "source": [
    "tsteps = cs.params[\"tsteps\"] // cs.params[\"save_step\"]\n",
    "\n",
    "time = np.linspace(0, cs.params['tsteps'] * cs.params[\"dt\"], tsteps)\n",
    "time_body = np.linspace(0, cs.params['tsteps'] * cs.params[\"dt\"], \n",
    "tsteps*cs.params[\"num_bodies\"])\n",
    "\n",
    "sx = np.sqrt(3)*np.sin(cs.results[::2]) * np.sin(cs.results[1::2])\n",
    "sy = -np.sqrt(3)*np.sin(cs.results[::2]) * np.cos(cs.results[1::2])\n",
    "sz = -np.sqrt(3)*np.cos(cs.results[::2])\n",
    "\n",
    "sx_mean = np.reshape(sx, (-1, cs.params[\"num_bodies\"])).mean(axis=-1)\n",
    "sy_mean = np.reshape(sy, (-1, cs.params[\"num_bodies\"])).mean(axis=-1)\n",
    "sz_mean = np.reshape(sz, (-1, cs.params[\"num_bodies\"])).mean(axis=-1)"
   ]
  },
  {
   "cell_type": "markdown",
   "id": "3ce47819",
   "metadata": {},
   "source": [
    "#### Plot"
   ]
  },
  {
   "cell_type": "code",
   "execution_count": null,
   "id": "f52bd0ce",
   "metadata": {},
   "outputs": [],
   "source": [
    "plt.figure(figsize=(7,3))\n",
    "plt.subplot(121)\n",
    "plt.title(\"Intital conf\")\n",
    "plt.plot(time_body, sx, label=\"sx\")\n",
    "plt.plot(time_body, sy, label=\"sy\")\n",
    "plt.plot(time_body, sz, label=\"sz\")\n",
    "plt.xlabel(\"t x N\", fontsize=14)\n",
    "plt.ylabel(\"s\", fontsize=14)\n",
    "plt.subplot(122)\n",
    "plt.title(\"Averaged conf\")\n",
    "plt.plot(time, sx_mean, label=\"<sx>\")\n",
    "plt.plot(time, sy_mean, label=\"<sy>\")\n",
    "plt.plot(time, sz_mean, label=\"<sz>\")    \n",
    "plt.xlabel(\"t\", fontsize=14)\n",
    "plt.ylabel(\"<s>\", fontsize=14)\n",
    "plt.legend(frameon=False, prop={\"size\": 10})\n",
    "plt.grid(True)\n",
    "plt.tight_layout()"
   ]
  },
  {
   "cell_type": "code",
   "execution_count": null,
   "id": "5faa91cf",
   "metadata": {},
   "outputs": [],
   "source": [
    "del cs"
   ]
  },
  {
   "cell_type": "code",
   "execution_count": null,
   "id": "442016a5",
   "metadata": {},
   "outputs": [],
   "source": [
    "system_params = {\n",
    "                \"num_bodies\": 256,\n",
    "                \"dt\": 1e-3,\n",
    "                \"tsteps\": 200, #20000 \n",
    "                \"save_step\":1, #10\n",
    "                \"gamma\": 1.0,\n",
    "                \"jx\": 0.9,\n",
    "                \"jy\": 0.9,\n",
    "                \"jz\": 1.0,\n",
    "                \"save_start\":0\n",
    "                }\n",
    "\n",
    "gpu_settings = {\n",
    "            \"block_size\":4,\n",
    "            \"use_host_mem\": True}    \n"
   ]
  },
  {
   "cell_type": "code",
   "execution_count": null,
   "id": "fee8c6b6-2a20-45ff-a7b7-a4991d54c2f9",
   "metadata": {},
   "outputs": [],
   "source": [
    "perf_gpu = []\n",
    "# for i in [12,13,14, 15, 16, 17]:\n",
    "\n",
    "for i in [128, 2048]:\n",
    "    system_params[\"num_bodies\"] = i\n",
    "    cs = CudaSpins(params=system_params, gpu_params=gpu_settings)\n",
    "    cs.set_platform(\"GPU\")\n",
    "    cs.run()\n",
    "    perf_gpu.append(cs.platf_time)\n",
    "    del cs\n",
    "    \n",
    "np.save(f'perf_gpu_{gpu_settings[\"block_size\"] }',perf_gpu)"
   ]
  },
  {
   "cell_type": "code",
   "execution_count": null,
   "id": "a8e6e5ba-cb64-4598-b41e-7f3b93a800b8",
   "metadata": {},
   "outputs": [],
   "source": [
    "np.load('perf_cpu.npy')"
   ]
  },
  {
   "cell_type": "code",
   "execution_count": null,
   "id": "d392e953-f7d6-4b8b-94b2-a79534283696",
   "metadata": {},
   "outputs": [],
   "source": [
    "np.save('perf_gpu',perf_gpu)"
   ]
  },
  {
   "cell_type": "code",
   "execution_count": 1,
   "id": "7b212d46-5dd0-4c90-9e15-eefbacd6bc22",
   "metadata": {},
   "outputs": [],
   "source": [
    "import sympy as sym\n",
    "from sympy.matrices import Matrix"
   ]
  },
  {
   "cell_type": "code",
   "execution_count": 64,
   "id": "03557a31",
   "metadata": {},
   "outputs": [],
   "source": [
    "theta = sym.Symbol('theta_j', real=True)\n",
    "phi = sym.Symbol('phi_j', real=True)\n",
    "\n",
    "thetak = sym.Symbol('theta_k', real=True)\n",
    "phik = sym.Symbol('phi_k', real=True)\n",
    "\n",
    "sxj, syj, szj, jx, jy, jz, Wa, Wb, g, k, n = sym.symbols('s^x_j, s^y_j ,s^z_j, J_x, J_y, J_z, dW^a, dW^b, gamma, k, n', real=True)\n",
    "sxk, syk, szk, dt = sym.symbols('s^x_k, s^y_k ,s^z_k, dt', real=True)\n",
    "\n",
    "Ixk = sym.Sum(sxk, (k, 0, n))\n",
    "Iyk = sym.Sum(syk, (k, 0, n))\n",
    "Izk = sym.Sum(szk, (k, 0, n))"
   ]
  },
  {
   "cell_type": "code",
   "execution_count": 65,
   "id": "6790f98e",
   "metadata": {},
   "outputs": [
    {
     "data": {
      "text/latex": [
       "$\\displaystyle \\left[\\begin{matrix}\\cos{\\left(\\phi_{j} \\right)} \\cos{\\left(\\theta_{j} \\right)} & - \\sin{\\left(\\phi_{j} \\right)} \\sin{\\left(\\theta_{j} \\right)}\\\\- \\sin{\\left(\\phi_{j} \\right)} \\cos{\\left(\\theta_{j} \\right)} & - \\sin{\\left(\\theta_{j} \\right)} \\cos{\\left(\\phi_{j} \\right)}\\\\\\sin{\\left(\\theta_{j} \\right)} & 0\\end{matrix}\\right]$"
      ],
      "text/plain": [
       "Matrix([\n",
       "[ cos(phi_j)*cos(theta_j), -sin(phi_j)*sin(theta_j)],\n",
       "[-sin(phi_j)*cos(theta_j), -sin(theta_j)*cos(phi_j)],\n",
       "[            sin(theta_j),                        0]])"
      ]
     },
     "execution_count": 65,
     "metadata": {},
     "output_type": "execute_result"
    }
   ],
   "source": [
    "A = Matrix([[sym.cos(theta)*sym.cos(phi),-sym.sin(theta)*sym.sin(phi)],\n",
    "        [-sym.cos(theta)*sym.sin(phi),-sym.sin(theta)*sym.cos(phi)],[sym.sin(theta),0]])\n",
    "A"
   ]
  },
  {
   "cell_type": "code",
   "execution_count": 66,
   "id": "ceeb8511",
   "metadata": {},
   "outputs": [
    {
     "data": {
      "text/latex": [
       "$\\displaystyle \\left[\\begin{matrix}\\cos{\\left(\\phi_{j} \\right)} \\cos{\\left(\\theta_{j} \\right)} & - \\sin{\\left(\\phi_{j} \\right)} \\cos{\\left(\\theta_{j} \\right)} & \\sin{\\left(\\theta_{j} \\right)}\\\\- \\frac{\\sin{\\left(\\phi_{j} \\right)}}{\\sin{\\left(\\theta_{j} \\right)}} & - \\frac{\\cos{\\left(\\phi_{j} \\right)}}{\\sin{\\left(\\theta_{j} \\right)}} & 0\\end{matrix}\\right]$"
      ],
      "text/plain": [
       "Matrix([\n",
       "[ cos(phi_j)*cos(theta_j), -sin(phi_j)*cos(theta_j), sin(theta_j)],\n",
       "[-sin(phi_j)/sin(theta_j), -cos(phi_j)/sin(theta_j),            0]])"
      ]
     },
     "execution_count": 66,
     "metadata": {},
     "output_type": "execute_result"
    }
   ],
   "source": [
    "A_l = sym.simplify((sym.simplify((A.T@A).inv())@A.T))\n",
    "A_l"
   ]
  },
  {
   "cell_type": "code",
   "execution_count": 67,
   "id": "bca266d4",
   "metadata": {},
   "outputs": [
    {
     "data": {
      "text/latex": [
       "$\\displaystyle \\left[\\begin{matrix}\\cos{\\left(\\phi_{j} \\right)} \\cos{\\left(\\theta_{j} \\right)} & - \\sin{\\left(\\phi_{j} \\right)} \\cos{\\left(\\theta_{j} \\right)} & \\sin{\\left(\\theta_{j} \\right)}\\\\- \\frac{\\sin{\\left(\\phi_{j} \\right)}}{\\sin{\\left(\\theta_{j} \\right)}} & - \\frac{\\cos{\\left(\\phi_{j} \\right)}}{\\sin{\\left(\\theta_{j} \\right)}} & 0\\end{matrix}\\right]$"
      ],
      "text/plain": [
       "Matrix([\n",
       "[ cos(phi_j)*cos(theta_j), -sin(phi_j)*cos(theta_j), sin(theta_j)],\n",
       "[-sin(phi_j)/sin(theta_j), -cos(phi_j)/sin(theta_j),            0]])"
      ]
     },
     "execution_count": 67,
     "metadata": {},
     "output_type": "execute_result"
    }
   ],
   "source": [
    "sym.simplify(A_l)"
   ]
  },
  {
   "cell_type": "code",
   "execution_count": 70,
   "id": "cc5e8620",
   "metadata": {},
   "outputs": [],
   "source": [
    "dsx = (-g/2 * sxj + 2*jy *Iyk*szj - 2*jz*Izk*syj)*dt + (1+szj-sxj**2)*Wa*sym.sqrt(g/2) + sxj*syj*Wb*sym.sqrt(g/2)\n",
    "dsy = (-g/2 * syj + 2*jz *Izk*sxj - 2*jx*szj*Ixk)*dt + (1+szj-syj**2)*Wb*sym.sqrt(g/2) + sxj*syj*Wa*sym.sqrt(g/2)\n",
    "dsz = (-g * (1+ szj) + 2*jx *Ixk*syj - 2*jy*szj*Ixk)*dt + sxj*(1+szj)*Wa*g/2 + syj*(1+szj)*Wb*g/2"
   ]
  },
  {
   "cell_type": "code",
   "execution_count": 71,
   "id": "7a998e17",
   "metadata": {},
   "outputs": [],
   "source": [
    "# dsx = (-g/2 * sxj + 2*jy *syk*szj - 2*jz*szk*syj)*dt + (1+szj-sxj**2)*Wa*sym.sqrt(g/2) + sxj*syj*Wb*sym.sqrt(g/2)\n",
    "# dsy = (-g/2 * syj + 2*jz *szk*sxj - 2*jx*szj*sxk)*dt + (1+szj-syj**2)*Wb*sym.sqrt(g/2) + sxj*syj*Wa*sym.sqrt(g/2)\n",
    "# dsz = (-g * (1+ szj) + 2*jx *sxk*syj - 2*jy*szj*sxk)*dt + sxj*(1+szj)*Wa*g/2 + syj*(1+szj)*Wb*g/2"
   ]
  },
  {
   "cell_type": "code",
   "execution_count": 72,
   "id": "69b58c29",
   "metadata": {},
   "outputs": [
    {
     "data": {
      "text/latex": [
       "$\\displaystyle \\frac{\\sqrt{2} dW^{a} \\sqrt{\\gamma} \\left(- \\left(s^{x}_{j}\\right)^{2} + s^{z}_{j} + 1\\right)}{2} + \\frac{\\sqrt{2} dW^{b} \\sqrt{\\gamma} s^{x}_{j} s^{y}_{j}}{2} + dt \\left(2 J_{y} s^{z}_{j} \\sum_{k=0}^{n} s^{y}_{k} - 2 J_{z} s^{y}_{j} \\sum_{k=0}^{n} s^{z}_{k} - \\frac{\\gamma s^{x}_{j}}{2}\\right)$"
      ],
      "text/plain": [
       "sqrt(2)*dW^a*sqrt(gamma)*(-s^x_j**2 + s^z_j + 1)/2 + sqrt(2)*dW^b*sqrt(gamma)*s^x_j*s^y_j/2 + dt*(2*J_y*s^z_j*Sum(s^y_k, (k, 0, n)) - 2*J_z*s^y_j*Sum(s^z_k, (k, 0, n)) - gamma*s^x_j/2)"
      ]
     },
     "execution_count": 72,
     "metadata": {},
     "output_type": "execute_result"
    }
   ],
   "source": [
    "dsx"
   ]
  },
  {
   "cell_type": "code",
   "execution_count": 73,
   "id": "9b9728c6",
   "metadata": {},
   "outputs": [
    {
     "data": {
      "text/latex": [
       "$\\displaystyle \\frac{\\sqrt{2} dW^{a} \\sqrt{\\gamma} s^{x}_{j} s^{y}_{j}}{2} + \\frac{\\sqrt{2} dW^{b} \\sqrt{\\gamma} \\left(- \\left(s^{y}_{j}\\right)^{2} + s^{z}_{j} + 1\\right)}{2} + dt \\left(- 2 J_{x} s^{z}_{j} \\sum_{k=0}^{n} s^{x}_{k} + 2 J_{z} s^{x}_{j} \\sum_{k=0}^{n} s^{z}_{k} - \\frac{\\gamma s^{y}_{j}}{2}\\right)$"
      ],
      "text/plain": [
       "sqrt(2)*dW^a*sqrt(gamma)*s^x_j*s^y_j/2 + sqrt(2)*dW^b*sqrt(gamma)*(-s^y_j**2 + s^z_j + 1)/2 + dt*(-2*J_x*s^z_j*Sum(s^x_k, (k, 0, n)) + 2*J_z*s^x_j*Sum(s^z_k, (k, 0, n)) - gamma*s^y_j/2)"
      ]
     },
     "execution_count": 73,
     "metadata": {},
     "output_type": "execute_result"
    }
   ],
   "source": [
    "dsy"
   ]
  },
  {
   "cell_type": "code",
   "execution_count": 74,
   "id": "bc4903dd",
   "metadata": {},
   "outputs": [
    {
     "data": {
      "text/latex": [
       "$\\displaystyle \\frac{dW^{a} \\gamma s^{x}_{j} \\left(s^{z}_{j} + 1\\right)}{2} + \\frac{dW^{b} \\gamma s^{y}_{j} \\left(s^{z}_{j} + 1\\right)}{2} + dt \\left(2 J_{x} s^{y}_{j} \\sum_{k=0}^{n} s^{x}_{k} - 2 J_{y} s^{z}_{j} \\sum_{k=0}^{n} s^{x}_{k} - \\gamma \\left(s^{z}_{j} + 1\\right)\\right)$"
      ],
      "text/plain": [
       "dW^a*gamma*s^x_j*(s^z_j + 1)/2 + dW^b*gamma*s^y_j*(s^z_j + 1)/2 + dt*(2*J_x*s^y_j*Sum(s^x_k, (k, 0, n)) - 2*J_y*s^z_j*Sum(s^x_k, (k, 0, n)) - gamma*(s^z_j + 1))"
      ]
     },
     "execution_count": 74,
     "metadata": {},
     "output_type": "execute_result"
    }
   ],
   "source": [
    "dsz"
   ]
  },
  {
   "cell_type": "code",
   "execution_count": 76,
   "id": "f4b56b67",
   "metadata": {},
   "outputs": [],
   "source": [
    "SXj = sym.sqrt(3)*sym.sin(theta)*sym.cos(phi)\n",
    "SYj = sym.sqrt(3)*-sym.sin(theta)*sym.sin(phi)\n",
    "SZj = sym.sqrt(3)*sym.cos(theta)\n",
    "\n",
    "SXk = sym.Sum(sym.sqrt(3)*sym.sin(thetak)*sym.cos(phik), (k, 0, n))\n",
    "SYk = sym.Sum(sym.sqrt(3)*-sym.sin(thetak)*sym.sin(phik), (k, 0, n))\n",
    "SZk = sym.Sum(sym.sqrt(3)*sym.cos(thetak), (k, 0, n))\n",
    "\n",
    "\n",
    "dsx_tp = dsx.subs({sxj:SXj, syj:SYj, szj:SZj, sxk:SXk, syk:SYk, szk:SZk})\n",
    "dsy_tp = dsy.subs({sxj:SXj, syj:SYj, szj:SZj, sxk:SXk, syk:SYk, szk:SZk})\n",
    "dsz_tp = dsz.subs({sxj:SXj, syj:SYj, szj:SZj, sxk:SXk, syk:SYk, szk:SZk})"
   ]
  },
  {
   "cell_type": "code",
   "execution_count": 77,
   "id": "98056cf1",
   "metadata": {},
   "outputs": [],
   "source": [
    "# SXj = sym.sqrt(3)*sym.sin(theta)*sym.cos(phi)\n",
    "# SYj = sym.sqrt(3)*-sym.sin(theta)*sym.sin(phi)\n",
    "# SZj = sym.sqrt(3)*sym.cos(theta)\n",
    "\n",
    "# SXk = sym.sqrt(3)*sym.sin(thetak)*sym.cos(phik)\n",
    "# SYk = sym.sqrt(3)*-sym.sin(thetak)*sym.sin(phik)\n",
    "# SZk = sym.sqrt(3)*sym.cos(thetak)\n",
    "\n",
    "\n",
    "# dsx_tp = dsx.subs({sxj:SXj, syj:SYj, szj:SZj, sxk:SXk, syk:SYk, szk:SZk})\n",
    "# dsy_tp = dsy.subs({sxj:SXj, syj:SYj, szj:SZj, sxk:SXk, syk:SYk, szk:SZk})\n",
    "# dsz_tp = dsz.subs({sxj:SXj, syj:SYj, szj:SZj, sxk:SXk, syk:SYk, szk:SZk})\n",
    "\n",
    "# dsx_tp = dsx.subs({sxj:SXj, syj:SYj, szj:SZj})\n",
    "# dsy_tp = dsy.subs({sxj:SXj, syj:SYj, szj:SZj})\n",
    "# dsz_tp = dsz.subs({sxj:SXj, syj:SYj, szj:SZj})"
   ]
  },
  {
   "cell_type": "code",
   "execution_count": 78,
   "id": "6e918d76",
   "metadata": {},
   "outputs": [
    {
     "data": {
      "text/latex": [
       "$\\displaystyle \\frac{\\sqrt{2} dW^{a} \\sqrt{\\gamma} \\left(- 3 \\sin^{2}{\\left(\\theta_{j} \\right)} \\cos^{2}{\\left(\\phi_{j} \\right)} + \\sqrt{3} \\cos{\\left(\\theta_{j} \\right)} + 1\\right)}{2} - \\frac{3 \\sqrt{2} dW^{b} \\sqrt{\\gamma} \\sin{\\left(\\phi_{j} \\right)} \\sin^{2}{\\left(\\theta_{j} \\right)} \\cos{\\left(\\phi_{j} \\right)}}{2} + dt \\left(2 \\sqrt{3} J_{y} \\cos{\\left(\\theta_{j} \\right)} \\sum_{\\substack{0 \\leq k \\leq n\\\\0 \\leq k \\leq n}} - \\sqrt{3} \\sin{\\left(\\phi_{k} \\right)} \\sin{\\left(\\theta_{k} \\right)} + 2 \\sqrt{3} J_{z} \\sin{\\left(\\phi_{j} \\right)} \\sin{\\left(\\theta_{j} \\right)} \\sum_{\\substack{0 \\leq k \\leq n\\\\0 \\leq k \\leq n}} \\sqrt{3} \\cos{\\left(\\theta_{k} \\right)} - \\frac{\\sqrt{3} \\gamma \\sin{\\left(\\theta_{j} \\right)} \\cos{\\left(\\phi_{j} \\right)}}{2}\\right)$"
      ],
      "text/plain": [
       "sqrt(2)*dW^a*sqrt(gamma)*(-3*sin(theta_j)**2*cos(phi_j)**2 + sqrt(3)*cos(theta_j) + 1)/2 - 3*sqrt(2)*dW^b*sqrt(gamma)*sin(phi_j)*sin(theta_j)**2*cos(phi_j)/2 + dt*(2*sqrt(3)*J_y*cos(theta_j)*Sum(-sqrt(3)*sin(phi_k)*sin(theta_k), (k, 0, n), (k, 0, n)) + 2*sqrt(3)*J_z*sin(phi_j)*sin(theta_j)*Sum(sqrt(3)*cos(theta_k), (k, 0, n), (k, 0, n)) - sqrt(3)*gamma*sin(theta_j)*cos(phi_j)/2)"
      ]
     },
     "execution_count": 78,
     "metadata": {},
     "output_type": "execute_result"
    }
   ],
   "source": [
    "dsx_tp"
   ]
  },
  {
   "cell_type": "code",
   "execution_count": 79,
   "id": "44d9ed1b",
   "metadata": {},
   "outputs": [],
   "source": [
    "TP_eom = A_l@Matrix([dsx_tp, dsy_tp, dsz_tp])"
   ]
  },
  {
   "cell_type": "code",
   "execution_count": 80,
   "id": "e42ad8ee",
   "metadata": {},
   "outputs": [
    {
     "data": {
      "text/latex": [
       "$\\displaystyle \\left[\\begin{matrix}\\left(\\frac{\\sqrt{2} dW^{a} \\sqrt{\\gamma} \\left(- 3 \\sin^{2}{\\left(\\theta_{j} \\right)} \\cos^{2}{\\left(\\phi_{j} \\right)} + \\sqrt{3} \\cos{\\left(\\theta_{j} \\right)} + 1\\right)}{2} - \\frac{3 \\sqrt{2} dW^{b} \\sqrt{\\gamma} \\sin{\\left(\\phi_{j} \\right)} \\sin^{2}{\\left(\\theta_{j} \\right)} \\cos{\\left(\\phi_{j} \\right)}}{2} + dt \\left(2 \\sqrt{3} J_{y} \\cos{\\left(\\theta_{j} \\right)} \\sum_{\\substack{0 \\leq k \\leq n\\\\0 \\leq k \\leq n}} - \\sqrt{3} \\sin{\\left(\\phi_{k} \\right)} \\sin{\\left(\\theta_{k} \\right)} + 2 \\sqrt{3} J_{z} \\sin{\\left(\\phi_{j} \\right)} \\sin{\\left(\\theta_{j} \\right)} \\sum_{\\substack{0 \\leq k \\leq n\\\\0 \\leq k \\leq n}} \\sqrt{3} \\cos{\\left(\\theta_{k} \\right)} - \\frac{\\sqrt{3} \\gamma \\sin{\\left(\\theta_{j} \\right)} \\cos{\\left(\\phi_{j} \\right)}}{2}\\right)\\right) \\cos{\\left(\\phi_{j} \\right)} \\cos{\\left(\\theta_{j} \\right)} - \\left(- \\frac{3 \\sqrt{2} dW^{a} \\sqrt{\\gamma} \\sin{\\left(\\phi_{j} \\right)} \\sin^{2}{\\left(\\theta_{j} \\right)} \\cos{\\left(\\phi_{j} \\right)}}{2} + \\frac{\\sqrt{2} dW^{b} \\sqrt{\\gamma} \\left(- 3 \\sin^{2}{\\left(\\phi_{j} \\right)} \\sin^{2}{\\left(\\theta_{j} \\right)} + \\sqrt{3} \\cos{\\left(\\theta_{j} \\right)} + 1\\right)}{2} + dt \\left(- 2 \\sqrt{3} J_{x} \\cos{\\left(\\theta_{j} \\right)} \\sum_{\\substack{0 \\leq k \\leq n\\\\0 \\leq k \\leq n}} \\sqrt{3} \\sin{\\left(\\theta_{k} \\right)} \\cos{\\left(\\phi_{k} \\right)} + 2 \\sqrt{3} J_{z} \\sin{\\left(\\theta_{j} \\right)} \\cos{\\left(\\phi_{j} \\right)} \\sum_{\\substack{0 \\leq k \\leq n\\\\0 \\leq k \\leq n}} \\sqrt{3} \\cos{\\left(\\theta_{k} \\right)} + \\frac{\\sqrt{3} \\gamma \\sin{\\left(\\phi_{j} \\right)} \\sin{\\left(\\theta_{j} \\right)}}{2}\\right)\\right) \\sin{\\left(\\phi_{j} \\right)} \\cos{\\left(\\theta_{j} \\right)} + \\left(\\frac{\\sqrt{3} dW^{a} \\gamma \\left(\\sqrt{3} \\cos{\\left(\\theta_{j} \\right)} + 1\\right) \\sin{\\left(\\theta_{j} \\right)} \\cos{\\left(\\phi_{j} \\right)}}{2} - \\frac{\\sqrt{3} dW^{b} \\gamma \\left(\\sqrt{3} \\cos{\\left(\\theta_{j} \\right)} + 1\\right) \\sin{\\left(\\phi_{j} \\right)} \\sin{\\left(\\theta_{j} \\right)}}{2} + dt \\left(- 2 \\sqrt{3} J_{x} \\sin{\\left(\\phi_{j} \\right)} \\sin{\\left(\\theta_{j} \\right)} \\sum_{\\substack{0 \\leq k \\leq n\\\\0 \\leq k \\leq n}} \\sqrt{3} \\sin{\\left(\\theta_{k} \\right)} \\cos{\\left(\\phi_{k} \\right)} - 2 \\sqrt{3} J_{y} \\cos{\\left(\\theta_{j} \\right)} \\sum_{\\substack{0 \\leq k \\leq n\\\\0 \\leq k \\leq n}} \\sqrt{3} \\sin{\\left(\\theta_{k} \\right)} \\cos{\\left(\\phi_{k} \\right)} - \\gamma \\left(\\sqrt{3} \\cos{\\left(\\theta_{j} \\right)} + 1\\right)\\right)\\right) \\sin{\\left(\\theta_{j} \\right)}\\\\- \\frac{\\left(\\frac{\\sqrt{2} dW^{a} \\sqrt{\\gamma} \\left(- 3 \\sin^{2}{\\left(\\theta_{j} \\right)} \\cos^{2}{\\left(\\phi_{j} \\right)} + \\sqrt{3} \\cos{\\left(\\theta_{j} \\right)} + 1\\right)}{2} - \\frac{3 \\sqrt{2} dW^{b} \\sqrt{\\gamma} \\sin{\\left(\\phi_{j} \\right)} \\sin^{2}{\\left(\\theta_{j} \\right)} \\cos{\\left(\\phi_{j} \\right)}}{2} + dt \\left(2 \\sqrt{3} J_{y} \\cos{\\left(\\theta_{j} \\right)} \\sum_{\\substack{0 \\leq k \\leq n\\\\0 \\leq k \\leq n}} - \\sqrt{3} \\sin{\\left(\\phi_{k} \\right)} \\sin{\\left(\\theta_{k} \\right)} + 2 \\sqrt{3} J_{z} \\sin{\\left(\\phi_{j} \\right)} \\sin{\\left(\\theta_{j} \\right)} \\sum_{\\substack{0 \\leq k \\leq n\\\\0 \\leq k \\leq n}} \\sqrt{3} \\cos{\\left(\\theta_{k} \\right)} - \\frac{\\sqrt{3} \\gamma \\sin{\\left(\\theta_{j} \\right)} \\cos{\\left(\\phi_{j} \\right)}}{2}\\right)\\right) \\sin{\\left(\\phi_{j} \\right)}}{\\sin{\\left(\\theta_{j} \\right)}} - \\frac{\\left(- \\frac{3 \\sqrt{2} dW^{a} \\sqrt{\\gamma} \\sin{\\left(\\phi_{j} \\right)} \\sin^{2}{\\left(\\theta_{j} \\right)} \\cos{\\left(\\phi_{j} \\right)}}{2} + \\frac{\\sqrt{2} dW^{b} \\sqrt{\\gamma} \\left(- 3 \\sin^{2}{\\left(\\phi_{j} \\right)} \\sin^{2}{\\left(\\theta_{j} \\right)} + \\sqrt{3} \\cos{\\left(\\theta_{j} \\right)} + 1\\right)}{2} + dt \\left(- 2 \\sqrt{3} J_{x} \\cos{\\left(\\theta_{j} \\right)} \\sum_{\\substack{0 \\leq k \\leq n\\\\0 \\leq k \\leq n}} \\sqrt{3} \\sin{\\left(\\theta_{k} \\right)} \\cos{\\left(\\phi_{k} \\right)} + 2 \\sqrt{3} J_{z} \\sin{\\left(\\theta_{j} \\right)} \\cos{\\left(\\phi_{j} \\right)} \\sum_{\\substack{0 \\leq k \\leq n\\\\0 \\leq k \\leq n}} \\sqrt{3} \\cos{\\left(\\theta_{k} \\right)} + \\frac{\\sqrt{3} \\gamma \\sin{\\left(\\phi_{j} \\right)} \\sin{\\left(\\theta_{j} \\right)}}{2}\\right)\\right) \\cos{\\left(\\phi_{j} \\right)}}{\\sin{\\left(\\theta_{j} \\right)}}\\end{matrix}\\right]$"
      ],
      "text/plain": [
       "Matrix([\n",
       "[(sqrt(2)*dW^a*sqrt(gamma)*(-3*sin(theta_j)**2*cos(phi_j)**2 + sqrt(3)*cos(theta_j) + 1)/2 - 3*sqrt(2)*dW^b*sqrt(gamma)*sin(phi_j)*sin(theta_j)**2*cos(phi_j)/2 + dt*(2*sqrt(3)*J_y*cos(theta_j)*Sum(-sqrt(3)*sin(phi_k)*sin(theta_k), (k, 0, n), (k, 0, n)) + 2*sqrt(3)*J_z*sin(phi_j)*sin(theta_j)*Sum(sqrt(3)*cos(theta_k), (k, 0, n), (k, 0, n)) - sqrt(3)*gamma*sin(theta_j)*cos(phi_j)/2))*cos(phi_j)*cos(theta_j) - (-3*sqrt(2)*dW^a*sqrt(gamma)*sin(phi_j)*sin(theta_j)**2*cos(phi_j)/2 + sqrt(2)*dW^b*sqrt(gamma)*(-3*sin(phi_j)**2*sin(theta_j)**2 + sqrt(3)*cos(theta_j) + 1)/2 + dt*(-2*sqrt(3)*J_x*cos(theta_j)*Sum(sqrt(3)*sin(theta_k)*cos(phi_k), (k, 0, n), (k, 0, n)) + 2*sqrt(3)*J_z*sin(theta_j)*cos(phi_j)*Sum(sqrt(3)*cos(theta_k), (k, 0, n), (k, 0, n)) + sqrt(3)*gamma*sin(phi_j)*sin(theta_j)/2))*sin(phi_j)*cos(theta_j) + (sqrt(3)*dW^a*gamma*(sqrt(3)*cos(theta_j) + 1)*sin(theta_j)*cos(phi_j)/2 - sqrt(3)*dW^b*gamma*(sqrt(3)*cos(theta_j) + 1)*sin(phi_j)*sin(theta_j)/2 + dt*(-2*sqrt(3)*J_x*sin(phi_j)*sin(theta_j)*Sum(sqrt(3)*sin(theta_k)*cos(phi_k), (k, 0, n), (k, 0, n)) - 2*sqrt(3)*J_y*cos(theta_j)*Sum(sqrt(3)*sin(theta_k)*cos(phi_k), (k, 0, n), (k, 0, n)) - gamma*(sqrt(3)*cos(theta_j) + 1)))*sin(theta_j)],\n",
       "[                                                                                                                                                                                                                                                                                                                                                                                                      -(sqrt(2)*dW^a*sqrt(gamma)*(-3*sin(theta_j)**2*cos(phi_j)**2 + sqrt(3)*cos(theta_j) + 1)/2 - 3*sqrt(2)*dW^b*sqrt(gamma)*sin(phi_j)*sin(theta_j)**2*cos(phi_j)/2 + dt*(2*sqrt(3)*J_y*cos(theta_j)*Sum(-sqrt(3)*sin(phi_k)*sin(theta_k), (k, 0, n), (k, 0, n)) + 2*sqrt(3)*J_z*sin(phi_j)*sin(theta_j)*Sum(sqrt(3)*cos(theta_k), (k, 0, n), (k, 0, n)) - sqrt(3)*gamma*sin(theta_j)*cos(phi_j)/2))*sin(phi_j)/sin(theta_j) - (-3*sqrt(2)*dW^a*sqrt(gamma)*sin(phi_j)*sin(theta_j)**2*cos(phi_j)/2 + sqrt(2)*dW^b*sqrt(gamma)*(-3*sin(phi_j)**2*sin(theta_j)**2 + sqrt(3)*cos(theta_j) + 1)/2 + dt*(-2*sqrt(3)*J_x*cos(theta_j)*Sum(sqrt(3)*sin(theta_k)*cos(phi_k), (k, 0, n), (k, 0, n)) + 2*sqrt(3)*J_z*sin(theta_j)*cos(phi_j)*Sum(sqrt(3)*cos(theta_k), (k, 0, n), (k, 0, n)) + sqrt(3)*gamma*sin(phi_j)*sin(theta_j)/2))*cos(phi_j)/sin(theta_j)]])"
      ]
     },
     "execution_count": 80,
     "metadata": {},
     "output_type": "execute_result"
    }
   ],
   "source": [
    "TP_eom"
   ]
  },
  {
   "cell_type": "code",
   "execution_count": 81,
   "id": "23ecf9a2",
   "metadata": {},
   "outputs": [
    {
     "data": {
      "text/latex": [
       "$\\displaystyle \\left(\\frac{\\sqrt{2} dW^{a} \\sqrt{\\gamma} \\left(- 3 \\sin^{2}{\\left(\\theta_{j} \\right)} \\cos^{2}{\\left(\\phi_{j} \\right)} + \\sqrt{3} \\cos{\\left(\\theta_{j} \\right)} + 1\\right)}{2} - \\frac{3 \\sqrt{2} dW^{b} \\sqrt{\\gamma} \\sin{\\left(\\phi_{j} \\right)} \\sin^{2}{\\left(\\theta_{j} \\right)} \\cos{\\left(\\phi_{j} \\right)}}{2} + dt \\left(2 \\sqrt{3} J_{y} \\cos{\\left(\\theta_{j} \\right)} \\sum_{\\substack{0 \\leq k \\leq n\\\\0 \\leq k \\leq n}} - \\sqrt{3} \\sin{\\left(\\phi_{k} \\right)} \\sin{\\left(\\theta_{k} \\right)} + 2 \\sqrt{3} J_{z} \\sin{\\left(\\phi_{j} \\right)} \\sin{\\left(\\theta_{j} \\right)} \\sum_{\\substack{0 \\leq k \\leq n\\\\0 \\leq k \\leq n}} \\sqrt{3} \\cos{\\left(\\theta_{k} \\right)} - \\frac{\\sqrt{3} \\gamma \\sin{\\left(\\theta_{j} \\right)} \\cos{\\left(\\phi_{j} \\right)}}{2}\\right)\\right) \\cos{\\left(\\phi_{j} \\right)} \\cos{\\left(\\theta_{j} \\right)} - \\left(- \\frac{3 \\sqrt{2} dW^{a} \\sqrt{\\gamma} \\sin{\\left(\\phi_{j} \\right)} \\sin^{2}{\\left(\\theta_{j} \\right)} \\cos{\\left(\\phi_{j} \\right)}}{2} + \\frac{\\sqrt{2} dW^{b} \\sqrt{\\gamma} \\left(- 3 \\sin^{2}{\\left(\\phi_{j} \\right)} \\sin^{2}{\\left(\\theta_{j} \\right)} + \\sqrt{3} \\cos{\\left(\\theta_{j} \\right)} + 1\\right)}{2} + dt \\left(- 2 \\sqrt{3} J_{x} \\cos{\\left(\\theta_{j} \\right)} \\sum_{\\substack{0 \\leq k \\leq n\\\\0 \\leq k \\leq n}} \\sqrt{3} \\sin{\\left(\\theta_{k} \\right)} \\cos{\\left(\\phi_{k} \\right)} + 2 \\sqrt{3} J_{z} \\sin{\\left(\\theta_{j} \\right)} \\cos{\\left(\\phi_{j} \\right)} \\sum_{\\substack{0 \\leq k \\leq n\\\\0 \\leq k \\leq n}} \\sqrt{3} \\cos{\\left(\\theta_{k} \\right)} + \\frac{\\sqrt{3} \\gamma \\sin{\\left(\\phi_{j} \\right)} \\sin{\\left(\\theta_{j} \\right)}}{2}\\right)\\right) \\sin{\\left(\\phi_{j} \\right)} \\cos{\\left(\\theta_{j} \\right)} + \\left(\\frac{\\sqrt{3} dW^{a} \\gamma \\left(\\sqrt{3} \\cos{\\left(\\theta_{j} \\right)} + 1\\right) \\sin{\\left(\\theta_{j} \\right)} \\cos{\\left(\\phi_{j} \\right)}}{2} - \\frac{\\sqrt{3} dW^{b} \\gamma \\left(\\sqrt{3} \\cos{\\left(\\theta_{j} \\right)} + 1\\right) \\sin{\\left(\\phi_{j} \\right)} \\sin{\\left(\\theta_{j} \\right)}}{2} + dt \\left(- 2 \\sqrt{3} J_{x} \\sin{\\left(\\phi_{j} \\right)} \\sin{\\left(\\theta_{j} \\right)} \\sum_{\\substack{0 \\leq k \\leq n\\\\0 \\leq k \\leq n}} \\sqrt{3} \\sin{\\left(\\theta_{k} \\right)} \\cos{\\left(\\phi_{k} \\right)} - 2 \\sqrt{3} J_{y} \\cos{\\left(\\theta_{j} \\right)} \\sum_{\\substack{0 \\leq k \\leq n\\\\0 \\leq k \\leq n}} \\sqrt{3} \\sin{\\left(\\theta_{k} \\right)} \\cos{\\left(\\phi_{k} \\right)} - \\gamma \\left(\\sqrt{3} \\cos{\\left(\\theta_{j} \\right)} + 1\\right)\\right)\\right) \\sin{\\left(\\theta_{j} \\right)}$"
      ],
      "text/plain": [
       "(sqrt(2)*dW^a*sqrt(gamma)*(-3*sin(theta_j)**2*cos(phi_j)**2 + sqrt(3)*cos(theta_j) + 1)/2 - 3*sqrt(2)*dW^b*sqrt(gamma)*sin(phi_j)*sin(theta_j)**2*cos(phi_j)/2 + dt*(2*sqrt(3)*J_y*cos(theta_j)*Sum(-sqrt(3)*sin(phi_k)*sin(theta_k), (k, 0, n), (k, 0, n)) + 2*sqrt(3)*J_z*sin(phi_j)*sin(theta_j)*Sum(sqrt(3)*cos(theta_k), (k, 0, n), (k, 0, n)) - sqrt(3)*gamma*sin(theta_j)*cos(phi_j)/2))*cos(phi_j)*cos(theta_j) - (-3*sqrt(2)*dW^a*sqrt(gamma)*sin(phi_j)*sin(theta_j)**2*cos(phi_j)/2 + sqrt(2)*dW^b*sqrt(gamma)*(-3*sin(phi_j)**2*sin(theta_j)**2 + sqrt(3)*cos(theta_j) + 1)/2 + dt*(-2*sqrt(3)*J_x*cos(theta_j)*Sum(sqrt(3)*sin(theta_k)*cos(phi_k), (k, 0, n), (k, 0, n)) + 2*sqrt(3)*J_z*sin(theta_j)*cos(phi_j)*Sum(sqrt(3)*cos(theta_k), (k, 0, n), (k, 0, n)) + sqrt(3)*gamma*sin(phi_j)*sin(theta_j)/2))*sin(phi_j)*cos(theta_j) + (sqrt(3)*dW^a*gamma*(sqrt(3)*cos(theta_j) + 1)*sin(theta_j)*cos(phi_j)/2 - sqrt(3)*dW^b*gamma*(sqrt(3)*cos(theta_j) + 1)*sin(phi_j)*sin(theta_j)/2 + dt*(-2*sqrt(3)*J_x*sin(phi_j)*sin(theta_j)*Sum(sqrt(3)*sin(theta_k)*cos(phi_k), (k, 0, n), (k, 0, n)) - 2*sqrt(3)*J_y*cos(theta_j)*Sum(sqrt(3)*sin(theta_k)*cos(phi_k), (k, 0, n), (k, 0, n)) - gamma*(sqrt(3)*cos(theta_j) + 1)))*sin(theta_j)"
      ]
     },
     "execution_count": 81,
     "metadata": {},
     "output_type": "execute_result"
    }
   ],
   "source": [
    "TP_eom[0]"
   ]
  },
  {
   "cell_type": "code",
   "execution_count": 82,
   "id": "f7efd9df",
   "metadata": {},
   "outputs": [
    {
     "data": {
      "text/latex": [
       "$\\displaystyle - \\frac{\\left(\\frac{\\sqrt{2} dW^{a} \\sqrt{\\gamma} \\left(- 3 \\sin^{2}{\\left(\\theta_{j} \\right)} \\cos^{2}{\\left(\\phi_{j} \\right)} + \\sqrt{3} \\cos{\\left(\\theta_{j} \\right)} + 1\\right)}{2} - \\frac{3 \\sqrt{2} dW^{b} \\sqrt{\\gamma} \\sin{\\left(\\phi_{j} \\right)} \\sin^{2}{\\left(\\theta_{j} \\right)} \\cos{\\left(\\phi_{j} \\right)}}{2} + dt \\left(2 \\sqrt{3} J_{y} \\cos{\\left(\\theta_{j} \\right)} \\sum_{\\substack{0 \\leq k \\leq n\\\\0 \\leq k \\leq n}} - \\sqrt{3} \\sin{\\left(\\phi_{k} \\right)} \\sin{\\left(\\theta_{k} \\right)} + 2 \\sqrt{3} J_{z} \\sin{\\left(\\phi_{j} \\right)} \\sin{\\left(\\theta_{j} \\right)} \\sum_{\\substack{0 \\leq k \\leq n\\\\0 \\leq k \\leq n}} \\sqrt{3} \\cos{\\left(\\theta_{k} \\right)} - \\frac{\\sqrt{3} \\gamma \\sin{\\left(\\theta_{j} \\right)} \\cos{\\left(\\phi_{j} \\right)}}{2}\\right)\\right) \\sin{\\left(\\phi_{j} \\right)}}{\\sin{\\left(\\theta_{j} \\right)}} - \\frac{\\left(- \\frac{3 \\sqrt{2} dW^{a} \\sqrt{\\gamma} \\sin{\\left(\\phi_{j} \\right)} \\sin^{2}{\\left(\\theta_{j} \\right)} \\cos{\\left(\\phi_{j} \\right)}}{2} + \\frac{\\sqrt{2} dW^{b} \\sqrt{\\gamma} \\left(- 3 \\sin^{2}{\\left(\\phi_{j} \\right)} \\sin^{2}{\\left(\\theta_{j} \\right)} + \\sqrt{3} \\cos{\\left(\\theta_{j} \\right)} + 1\\right)}{2} + dt \\left(- 2 \\sqrt{3} J_{x} \\cos{\\left(\\theta_{j} \\right)} \\sum_{\\substack{0 \\leq k \\leq n\\\\0 \\leq k \\leq n}} \\sqrt{3} \\sin{\\left(\\theta_{k} \\right)} \\cos{\\left(\\phi_{k} \\right)} + 2 \\sqrt{3} J_{z} \\sin{\\left(\\theta_{j} \\right)} \\cos{\\left(\\phi_{j} \\right)} \\sum_{\\substack{0 \\leq k \\leq n\\\\0 \\leq k \\leq n}} \\sqrt{3} \\cos{\\left(\\theta_{k} \\right)} + \\frac{\\sqrt{3} \\gamma \\sin{\\left(\\phi_{j} \\right)} \\sin{\\left(\\theta_{j} \\right)}}{2}\\right)\\right) \\cos{\\left(\\phi_{j} \\right)}}{\\sin{\\left(\\theta_{j} \\right)}}$"
      ],
      "text/plain": [
       "-(sqrt(2)*dW^a*sqrt(gamma)*(-3*sin(theta_j)**2*cos(phi_j)**2 + sqrt(3)*cos(theta_j) + 1)/2 - 3*sqrt(2)*dW^b*sqrt(gamma)*sin(phi_j)*sin(theta_j)**2*cos(phi_j)/2 + dt*(2*sqrt(3)*J_y*cos(theta_j)*Sum(-sqrt(3)*sin(phi_k)*sin(theta_k), (k, 0, n), (k, 0, n)) + 2*sqrt(3)*J_z*sin(phi_j)*sin(theta_j)*Sum(sqrt(3)*cos(theta_k), (k, 0, n), (k, 0, n)) - sqrt(3)*gamma*sin(theta_j)*cos(phi_j)/2))*sin(phi_j)/sin(theta_j) - (-3*sqrt(2)*dW^a*sqrt(gamma)*sin(phi_j)*sin(theta_j)**2*cos(phi_j)/2 + sqrt(2)*dW^b*sqrt(gamma)*(-3*sin(phi_j)**2*sin(theta_j)**2 + sqrt(3)*cos(theta_j) + 1)/2 + dt*(-2*sqrt(3)*J_x*cos(theta_j)*Sum(sqrt(3)*sin(theta_k)*cos(phi_k), (k, 0, n), (k, 0, n)) + 2*sqrt(3)*J_z*sin(theta_j)*cos(phi_j)*Sum(sqrt(3)*cos(theta_k), (k, 0, n), (k, 0, n)) + sqrt(3)*gamma*sin(phi_j)*sin(theta_j)/2))*cos(phi_j)/sin(theta_j)"
      ]
     },
     "execution_count": 82,
     "metadata": {},
     "output_type": "execute_result"
    }
   ],
   "source": [
    "TP_eom[1]"
   ]
  },
  {
   "cell_type": "code",
   "execution_count": 83,
   "id": "85586875",
   "metadata": {},
   "outputs": [
    {
     "data": {
      "text/latex": [
       "$\\displaystyle \\frac{3 \\sqrt{2} dW^{a} \\sqrt{\\gamma} \\sin^{2}{\\left(\\phi_{j} \\right)} \\sin^{2}{\\left(\\theta_{j} \\right)} \\cos{\\left(\\phi_{j} \\right)} \\cos{\\left(\\theta_{j} \\right)}}{2} - \\frac{3 \\sqrt{2} dW^{a} \\sqrt{\\gamma} \\sin^{2}{\\left(\\theta_{j} \\right)} \\cos^{3}{\\left(\\phi_{j} \\right)} \\cos{\\left(\\theta_{j} \\right)}}{2} + \\frac{\\sqrt{6} dW^{a} \\sqrt{\\gamma} \\cos{\\left(\\phi_{j} \\right)} \\cos^{2}{\\left(\\theta_{j} \\right)}}{2} + \\frac{\\sqrt{2} dW^{a} \\sqrt{\\gamma} \\cos{\\left(\\phi_{j} \\right)} \\cos{\\left(\\theta_{j} \\right)}}{2} + \\frac{3 dW^{a} \\gamma \\sin^{2}{\\left(\\theta_{j} \\right)} \\cos{\\left(\\phi_{j} \\right)} \\cos{\\left(\\theta_{j} \\right)}}{2} + \\frac{\\sqrt{3} dW^{a} \\gamma \\sin^{2}{\\left(\\theta_{j} \\right)} \\cos{\\left(\\phi_{j} \\right)}}{2} + \\frac{3 \\sqrt{2} dW^{b} \\sqrt{\\gamma} \\sin^{3}{\\left(\\phi_{j} \\right)} \\sin^{2}{\\left(\\theta_{j} \\right)} \\cos{\\left(\\theta_{j} \\right)}}{2} - \\frac{3 \\sqrt{2} dW^{b} \\sqrt{\\gamma} \\sin{\\left(\\phi_{j} \\right)} \\sin^{2}{\\left(\\theta_{j} \\right)} \\cos^{2}{\\left(\\phi_{j} \\right)} \\cos{\\left(\\theta_{j} \\right)}}{2} - \\frac{\\sqrt{6} dW^{b} \\sqrt{\\gamma} \\sin{\\left(\\phi_{j} \\right)} \\cos^{2}{\\left(\\theta_{j} \\right)}}{2} - \\frac{\\sqrt{2} dW^{b} \\sqrt{\\gamma} \\sin{\\left(\\phi_{j} \\right)} \\cos{\\left(\\theta_{j} \\right)}}{2} - \\frac{3 dW^{b} \\gamma \\sin{\\left(\\phi_{j} \\right)} \\sin^{2}{\\left(\\theta_{j} \\right)} \\cos{\\left(\\theta_{j} \\right)}}{2} - \\frac{\\sqrt{3} dW^{b} \\gamma \\sin{\\left(\\phi_{j} \\right)} \\sin^{2}{\\left(\\theta_{j} \\right)}}{2} - \\frac{\\sqrt{3} dt \\gamma \\sin^{2}{\\left(\\phi_{j} \\right)} \\sin{\\left(\\theta_{j} \\right)} \\cos{\\left(\\theta_{j} \\right)}}{2} - \\frac{\\sqrt{3} dt \\gamma \\sin{\\left(\\theta_{j} \\right)} \\cos^{2}{\\left(\\phi_{j} \\right)} \\cos{\\left(\\theta_{j} \\right)}}{2} - \\sqrt{3} dt \\gamma \\sin{\\left(\\theta_{j} \\right)} \\cos{\\left(\\theta_{j} \\right)} - dt \\gamma \\sin{\\left(\\theta_{j} \\right)} - 6 dt \\left(n + 1\\right)^{2} \\left(J_{x} \\sin{\\left(\\phi_{j} \\right)} \\sin^{2}{\\left(\\theta_{j} \\right)} \\cos{\\left(\\phi_{k} \\right)} - J_{x} \\sin{\\left(\\phi_{j} \\right)} \\cos{\\left(\\phi_{k} \\right)} \\cos^{2}{\\left(\\theta_{j} \\right)} + J_{y} \\sin{\\left(\\phi_{k} \\right)} \\cos{\\left(\\phi_{j} \\right)} \\cos^{2}{\\left(\\theta_{j} \\right)} + J_{y} \\sin{\\left(\\theta_{j} \\right)} \\cos{\\left(\\phi_{k} \\right)} \\cos{\\left(\\theta_{j} \\right)}\\right) \\sin{\\left(\\theta_{k} \\right)}$"
      ],
      "text/plain": [
       "3*sqrt(2)*dW^a*sqrt(gamma)*sin(phi_j)**2*sin(theta_j)**2*cos(phi_j)*cos(theta_j)/2 - 3*sqrt(2)*dW^a*sqrt(gamma)*sin(theta_j)**2*cos(phi_j)**3*cos(theta_j)/2 + sqrt(6)*dW^a*sqrt(gamma)*cos(phi_j)*cos(theta_j)**2/2 + sqrt(2)*dW^a*sqrt(gamma)*cos(phi_j)*cos(theta_j)/2 + 3*dW^a*gamma*sin(theta_j)**2*cos(phi_j)*cos(theta_j)/2 + sqrt(3)*dW^a*gamma*sin(theta_j)**2*cos(phi_j)/2 + 3*sqrt(2)*dW^b*sqrt(gamma)*sin(phi_j)**3*sin(theta_j)**2*cos(theta_j)/2 - 3*sqrt(2)*dW^b*sqrt(gamma)*sin(phi_j)*sin(theta_j)**2*cos(phi_j)**2*cos(theta_j)/2 - sqrt(6)*dW^b*sqrt(gamma)*sin(phi_j)*cos(theta_j)**2/2 - sqrt(2)*dW^b*sqrt(gamma)*sin(phi_j)*cos(theta_j)/2 - 3*dW^b*gamma*sin(phi_j)*sin(theta_j)**2*cos(theta_j)/2 - sqrt(3)*dW^b*gamma*sin(phi_j)*sin(theta_j)**2/2 - sqrt(3)*dt*gamma*sin(phi_j)**2*sin(theta_j)*cos(theta_j)/2 - sqrt(3)*dt*gamma*sin(theta_j)*cos(phi_j)**2*cos(theta_j)/2 - sqrt(3)*dt*gamma*sin(theta_j)*cos(theta_j) - dt*gamma*sin(theta_j) - 6*dt*(n + 1)**2*(J_x*sin(phi_j)*sin(theta_j)**2*cos(phi_k) - J_x*sin(phi_j)*cos(phi_k)*cos(theta_j)**2 + J_y*sin(phi_k)*cos(phi_j)*cos(theta_j)**2 + J_y*sin(theta_j)*cos(phi_k)*cos(theta_j))*sin(theta_k)"
      ]
     },
     "execution_count": 83,
     "metadata": {},
     "output_type": "execute_result"
    }
   ],
   "source": [
    "sym.simplify(TP_eom[0])"
   ]
  },
  {
   "cell_type": "code",
   "execution_count": 84,
   "id": "7c36d10e",
   "metadata": {},
   "outputs": [
    {
     "data": {
      "text/latex": [
       "$\\displaystyle 3 \\sqrt{2} dW^{a} \\sqrt{\\gamma} \\sin{\\left(\\phi_{j} \\right)} \\sin{\\left(\\theta_{j} \\right)} \\cos^{2}{\\left(\\phi_{j} \\right)} - \\frac{\\sqrt{6} dW^{a} \\sqrt{\\gamma} \\sin{\\left(\\phi_{j} \\right)}}{2 \\tan{\\left(\\theta_{j} \\right)}} - \\frac{\\sqrt{2} dW^{a} \\sqrt{\\gamma} \\sin{\\left(\\phi_{j} \\right)}}{2 \\sin{\\left(\\theta_{j} \\right)}} + 3 \\sqrt{2} dW^{b} \\sqrt{\\gamma} \\sin^{2}{\\left(\\phi_{j} \\right)} \\sin{\\left(\\theta_{j} \\right)} \\cos{\\left(\\phi_{j} \\right)} - \\frac{\\sqrt{6} dW^{b} \\sqrt{\\gamma} \\cos{\\left(\\phi_{j} \\right)}}{2 \\tan{\\left(\\theta_{j} \\right)}} - \\frac{\\sqrt{2} dW^{b} \\sqrt{\\gamma} \\cos{\\left(\\phi_{j} \\right)}}{2 \\sin{\\left(\\theta_{j} \\right)}} + 6 dt \\left(n + 1\\right)^{2} \\left(\\frac{J_{x} \\sin{\\left(\\theta_{k} \\right)} \\cos{\\left(\\phi_{j} \\right)} \\cos{\\left(\\phi_{k} \\right)}}{\\tan{\\left(\\theta_{j} \\right)}} + \\frac{J_{y} \\sin{\\left(\\phi_{j} \\right)} \\sin{\\left(\\phi_{k} \\right)} \\sin{\\left(\\theta_{k} \\right)}}{\\tan{\\left(\\theta_{j} \\right)}} - J_{z} \\left(\\sin^{2}{\\left(\\phi_{j} \\right)} + \\cos^{2}{\\left(\\phi_{j} \\right)}\\right) \\cos{\\left(\\theta_{k} \\right)}\\right)$"
      ],
      "text/plain": [
       "3*sqrt(2)*dW^a*sqrt(gamma)*sin(phi_j)*sin(theta_j)*cos(phi_j)**2 - sqrt(6)*dW^a*sqrt(gamma)*sin(phi_j)/(2*tan(theta_j)) - sqrt(2)*dW^a*sqrt(gamma)*sin(phi_j)/(2*sin(theta_j)) + 3*sqrt(2)*dW^b*sqrt(gamma)*sin(phi_j)**2*sin(theta_j)*cos(phi_j) - sqrt(6)*dW^b*sqrt(gamma)*cos(phi_j)/(2*tan(theta_j)) - sqrt(2)*dW^b*sqrt(gamma)*cos(phi_j)/(2*sin(theta_j)) + 6*dt*(n + 1)**2*(J_x*sin(theta_k)*cos(phi_j)*cos(phi_k)/tan(theta_j) + J_y*sin(phi_j)*sin(phi_k)*sin(theta_k)/tan(theta_j) - J_z*(sin(phi_j)**2 + cos(phi_j)**2)*cos(theta_k))"
      ]
     },
     "execution_count": 84,
     "metadata": {},
     "output_type": "execute_result"
    }
   ],
   "source": [
    "sym.simplify(TP_eom[1])"
   ]
  },
  {
   "cell_type": "code",
   "execution_count": null,
   "id": "07271ae8",
   "metadata": {},
   "outputs": [],
   "source": []
  }
 ],
 "metadata": {
  "kernelspec": {
   "display_name": "Python 3",
   "language": "python",
   "name": "python3"
  },
  "language_info": {
   "codemirror_mode": {
    "name": "ipython",
    "version": 3
   },
   "file_extension": ".py",
   "mimetype": "text/x-python",
   "name": "python",
   "nbconvert_exporter": "python",
   "pygments_lexer": "ipython3",
   "version": "3.12.3"
  }
 },
 "nbformat": 4,
 "nbformat_minor": 5
}
